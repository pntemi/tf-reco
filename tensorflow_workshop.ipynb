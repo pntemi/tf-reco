{
 "cells": [
  {
   "cell_type": "code",
   "execution_count": 1,
   "metadata": {
    "collapsed": true
   },
   "outputs": [],
   "source": [
    "import tensorflow as tf\n",
    "import numpy as np\n",
    "from tensorflow.contrib import layers\n",
    "from data import dataprep"
   ]
  },
  {
   "cell_type": "code",
   "execution_count": 2,
   "metadata": {},
   "outputs": [],
   "source": [
    "tf.reset_default_graph()"
   ]
  },
  {
   "cell_type": "code",
   "execution_count": 3,
   "metadata": {
    "collapsed": true
   },
   "outputs": [],
   "source": [
    "train_dict, test_dict = dataprep.mf_train_test()"
   ]
  },
  {
   "cell_type": "code",
   "execution_count": 4,
   "metadata": {
    "collapsed": true
   },
   "outputs": [],
   "source": [
    "n_user = train_dict['user_id'].max() + 1\n",
    "n_movie = train_dict['movie_id'].max() + 1\n",
    "n_dim = 20\n",
    "reg_param = 0.01\n",
    "learning_rate = 0.01"
   ]
  },
  {
   "cell_type": "code",
   "execution_count": 5,
   "metadata": {},
   "outputs": [],
   "source": [
    "# users = tf.placeholder(dtype=tf.int64, shape=[None])\n",
    "# movies = tf.placeholder(dtype=tf.int64, shape=[None])\n",
    "# rating = tf.placeholder(dtype=tf.float32, shape=[None])\n",
    "\n",
    "trainBatch = tf.train.shuffle_batch(train_dict, batch_size=10000, capacity=80000, min_after_dequeue=20000, \n",
    "                       num_threads=2, enqueue_many=True)\n",
    "\n",
    "testBatch = tf.train.shuffle_batch(test_dict, batch_size=test_dict['user_id'].shape[0], \n",
    "                                   capacity=test_dict['user_id'].shape[0], min_after_dequeue=0, enqueue_many=True)\n",
    "\n",
    "def get_train_data(): return trainBatch[\"user_id\"], trainBatch[\"movie_id\"], trainBatch[\"rating\"]\n",
    "def get_test_data(): return testBatch[\"user_id\"], testBatch[\"movie_id\"], testBatch[\"rating\"]\n",
    "is_train = tf.placeholder(dtype=bool)\n",
    "users, movies, rating = tf.cond(is_train, get_train_data, get_test_data)"
   ]
  },
  {
   "cell_type": "code",
   "execution_count": 6,
   "metadata": {},
   "outputs": [],
   "source": [
    "with tf.variable_scope(\"embedding\"):\n",
    "    user_weight = tf.get_variable(name=\"user_w\",\n",
    "                    shape=[n_user,n_dim], dtype=tf.float32,\n",
    "                   initializer=layers.xavier_initializer())\n",
    "    movie_weight = tf.get_variable(name=\"movie_w\",\n",
    "                   shape=[n_movie,n_dim], dtype=tf.float32,\n",
    "                   initializer=layers.xavier_initializer())\n",
    "    user_bias = tf.get_variable(name=\"user_b\",\n",
    "                   shape=[n_user],dtype=tf.float32,\n",
    "                   initializer=layers.xavier_initializer())\n",
    "    movie_bias = tf.get_variable(name=\"movie_b\",\n",
    "                   shape=[n_movie], dtype=tf.float32,\n",
    "                   initializer=layers.xavier_initializer())\n",
    "    \n",
    "    for v in tf.trainable_variables():\n",
    "        tf.summary.histogram(name=v.name.replace(\":0\", \"\"), values=v)"
   ]
  },
  {
   "cell_type": "code",
   "execution_count": 7,
   "metadata": {
    "collapsed": true
   },
   "outputs": [],
   "source": [
    "with tf.name_scope(\"inference\"):\n",
    "    user_emb = tf.nn.embedding_lookup(user_weight, users)\n",
    "    u_b = tf.nn.embedding_lookup(user_bias, users)\n",
    "    movie_emb = tf.nn.embedding_lookup(movie_weight, movies)\n",
    "    m_b = tf.nn.embedding_lookup(movie_bias, movies)"
   ]
  },
  {
   "cell_type": "code",
   "execution_count": 8,
   "metadata": {},
   "outputs": [
    {
     "data": {
      "text/plain": [
       "<tf.Tensor 'inference/embedding_lookup:0' shape=(?, 20) dtype=float32>"
      ]
     },
     "execution_count": 8,
     "metadata": {},
     "output_type": "execute_result"
    }
   ],
   "source": [
    "user_emb"
   ]
  },
  {
   "cell_type": "code",
   "execution_count": 9,
   "metadata": {},
   "outputs": [
    {
     "data": {
      "text/plain": [
       "TensorShape([Dimension(None)])"
      ]
     },
     "execution_count": 9,
     "metadata": {},
     "output_type": "execute_result"
    }
   ],
   "source": [
    "u_b.shape"
   ]
  },
  {
   "cell_type": "code",
   "execution_count": 10,
   "metadata": {
    "collapsed": true
   },
   "outputs": [],
   "source": [
    "with tf.name_scope(\"inference\"):\n",
    "    pred = tf.reduce_sum(tf.multiply(user_emb,movie_emb), 1) + u_b + m_b"
   ]
  },
  {
   "cell_type": "code",
   "execution_count": 11,
   "metadata": {},
   "outputs": [],
   "source": [
    "with tf.name_scope(\"loss\"):\n",
    "    reg_loss = layers.apply_regularization(layers.l2_regularizer(scale=reg_param),\n",
    "                                          weights_list=(user_weight,movie_weight))\n",
    "    loss = tf.nn.l2_loss(pred - rating) + reg_loss\n",
    "    tf.summary.scalar(\"l2loss\", loss)\n",
    "    train_ops = tf.train.AdamOptimizer(learning_rate=learning_rate).minimize(loss)"
   ]
  },
  {
   "cell_type": "code",
   "execution_count": 12,
   "metadata": {
    "collapsed": true
   },
   "outputs": [],
   "source": [
    "with tf.name_scope(\"loss\"):\n",
    "    rmse = tf.sqrt(tf.reduce_mean(tf.square(pred-rating)))"
   ]
  },
  {
   "cell_type": "code",
   "execution_count": 13,
   "metadata": {},
   "outputs": [
    {
     "name": "stdout",
     "output_type": "stream",
     "text": [
      "RMSE TRAIN: 3.687, RMSE TEST: 3.691\n",
      "RMSE TRAIN: 3.478, RMSE TEST: 3.486\n",
      "RMSE TRAIN: 3.088, RMSE TEST: 3.082\n",
      "RMSE TRAIN: 2.257, RMSE TEST: 2.274\n",
      "RMSE TRAIN: 1.243, RMSE TEST: 1.265\n",
      "RMSE TRAIN: 1.077, RMSE TEST: 1.109\n",
      "RMSE TRAIN: 0.962, RMSE TEST: 1.005\n",
      "RMSE TRAIN: 0.929, RMSE TEST: 0.978\n",
      "RMSE TRAIN: 0.896, RMSE TEST: 0.968\n",
      "RMSE TRAIN: 0.901, RMSE TEST: 0.957\n",
      "RMSE TRAIN: 0.897, RMSE TEST: 0.954\n",
      "RMSE TRAIN: 0.886, RMSE TEST: 0.952\n",
      "RMSE TRAIN: 0.878, RMSE TEST: 0.950\n",
      "RMSE TRAIN: 0.878, RMSE TEST: 0.949\n",
      "RMSE TRAIN: 0.887, RMSE TEST: 0.949\n",
      "RMSE TRAIN: 0.865, RMSE TEST: 0.946\n",
      "RMSE TRAIN: 0.856, RMSE TEST: 0.944\n",
      "RMSE TRAIN: 0.859, RMSE TEST: 0.942\n",
      "RMSE TRAIN: 0.843, RMSE TEST: 0.941\n",
      "RMSE TRAIN: 0.837, RMSE TEST: 0.940\n"
     ]
    }
   ],
   "source": [
    "with tf.Session() as sess:\n",
    "    sess.run(tf.global_variables_initializer())\n",
    "    merged = tf.summary.merge_all()\n",
    "    summaries_dir = '_summary/mf'\n",
    "    train_writer = tf.summary.FileWriter(summaries_dir + \"/train\", sess.graph)\n",
    "    test_writer = tf.summary.FileWriter(summaries_dir + \"/test\", sess.graph)\n",
    "    \n",
    "#     train_input_dict = {users: train_dict['user_id'],\n",
    "#                        movies: train_dict['movie_id'],\n",
    "#                        rating: train_dict['rating']}\n",
    "#     test_input_dict = {users: test_dict['user_id'],\n",
    "#                        movies: test_dict['movie_id'],\n",
    "#                        rating: test_dict['rating']}\n",
    "\n",
    "    coord = tf.train.Coordinator()\n",
    "    threads = tf.train.start_queue_runners(coord=coord)\n",
    "    \n",
    "    for i in range(200):\n",
    "#         _, loss_val = sess.run([train_ops, loss], feed_dict=train_input_dict)\n",
    "        _, loss_val = sess.run([train_ops, loss], feed_dict={is_train:True})\n",
    "        if i % 10 == 0:\n",
    "#             rmse_train = sess.run(rmse, feed_dict=train_input_dict)\n",
    "#             rmse_test = sess.run(rmse, feed_dict=test_input_dict)\n",
    "            rmse_train, train_summary= sess.run([rmse, merged], feed_dict={is_train:True})\n",
    "            rmse_test, test_summary= sess.run([rmse, merged], feed_dict={is_train:False})\n",
    "            print(\"RMSE TRAIN: %.3f, RMSE TEST: %.3f\" % (rmse_train, rmse_test))\n",
    "            train_writer.add_summary(train_summary, i)\n",
    "            test_writer.add_summary(test_summary, i)\n",
    "            \n",
    "    coord.request_stop()\n",
    "    coord.join(threads)"
   ]
  },
  {
   "cell_type": "code",
   "execution_count": null,
   "metadata": {
    "collapsed": true
   },
   "outputs": [],
   "source": []
  }
 ],
 "metadata": {
  "kernelspec": {
   "display_name": "Python 3",
   "language": "python",
   "name": "python3"
  },
  "language_info": {
   "codemirror_mode": {
    "name": "ipython",
    "version": 3
   },
   "file_extension": ".py",
   "mimetype": "text/x-python",
   "name": "python",
   "nbconvert_exporter": "python",
   "pygments_lexer": "ipython3",
   "version": "3.6.1"
  }
 },
 "nbformat": 4,
 "nbformat_minor": 1
}
